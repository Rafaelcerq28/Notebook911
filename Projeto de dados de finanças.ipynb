{
 "cells": [
  {
   "cell_type": "markdown",
   "metadata": {},
   "source": [
    "# Projeto de dados do mercado financeiro\n",
    "\n",
    "Neste projeto de dados, nos concentraremos na análise de dados exploratórios dos preços das ações. Tenha em mente que este projeto apenas pretende praticar suas habilidades de visualização e pandas, não é para ser uma análise financeira robusta ou ser tomado como um conselho financeiro.\n",
    "____\n",
    "** NOTA: Este projeto é extremamente desafiador, porque irá introduzir muitos novos conceitos e te fará procurar as coisas por conta própria (vamos apontar você na direção certa) para tentar resolver as tarefas emitidas. Sinta-se à vontade para passar pelo livro de conferências de soluções e no vídeo como um projeto \"passo a passo\" se você não quer ter que procurar as coisas sozinho. Você ainda aprenderá muito dessa forma! **\n",
    "____\n",
    "Vamos nos concentrar nas ações dos banco e ver como eles performaram durante a [crise financeira](https://en.wikipedia.org/wiki/Financial_crisis_of_2007%E2%80%9308) até o início de 2016."
   ]
  },
  {
   "cell_type": "markdown",
   "metadata": {},
   "source": [
    "## Obter dados\n",
    "\n",
    "Nesta seção, aprenderemos a usar pandas para ler diretamente os dados das finanças do Google usando pandas!\n",
    "\n",
    "Primeiro, precisamos começar com as importações adequadas, que já apresentamos para você aqui.\n",
    "\n",
    "* Nota: [Você precisará instalar pandas-datareader para que isso funcione!](Https://github.com/pydata/pandas-datareader) O datareader Pandas permite que você [leia informações das ações diretamente da internet](http : //pandas.pydata.org/pandas-docs/stable/remote_data.html) Use estes links para orientação de instalação (** pip install pandas-datareader **), ou simplesmente acompanhe a conferência de vídeo. *\n",
    "\n",
    "### Os Imports\n",
    "\n",
    "Já preenchidos para você."
   ]
  },
  {
   "cell_type": "code",
   "execution_count": null,
   "metadata": {},
   "outputs": [],
   "source": [
    "!pip install pandas-datareader"
   ]
  },
  {
   "cell_type": "code",
   "execution_count": 4,
   "metadata": {},
   "outputs": [],
   "source": [
    "from pandas_datareader import data, wb\n",
    "import pandas as pd\n",
    "import numpy as np\n",
    "import datetime\n",
    "%matplotlib inline"
   ]
  },
  {
   "cell_type": "markdown",
   "metadata": {},
   "source": [
    "## Dados\n",
    "\n",
    "Precisamos obter dados usando o datareader de pandas. Obteremos informações sobre ações para os seguintes bancos:\n",
    "* Bank of America\n",
    "* CitiGroup\n",
    "* Goldman Sachs\n",
    "* JPMorgan Chase\n",
    "* Morgan Stanley\n",
    "* Wells Fargo\n",
    "\n",
    "** Descubra como obter os dados de ações de 1 de janeiro de 2006 a 1º de janeiro de 2016 para cada um desses bancos. Defina cada banco como um dataframe separado, com o nome da variável para que esse banco seja seu símbolo de ticker. Isso envolverá algumas etapas: **\n",
    "1. Use datetime para definir objetos de início e fim de data e hora.\n",
    "2. Descobrir o símbolo do ticker para cada banco.\n",
    "2. Descubra como usar o datareader para pegar as cotações.\n",
    "\n",
    "** Use [esta página de documentação](http://pandas.pydata.org/pandas-docs/stable/remote_data.html) para obter dicas e instruções. Use o google finance como um fonte, por exemplo: **\n",
    "    \n",
    "     # Banco da América\n",
    "     BAC = data.DataReader (\"BAC\", \"google\", início e fim)\n"
   ]
  },
  {
   "cell_type": "code",
   "execution_count": 30,
   "metadata": {},
   "outputs": [],
   "source": [
    "start = datetime.datetime(2006, 1, 1)\n",
    "end = datetime.datetime(2016,1,1)"
   ]
  },
  {
   "cell_type": "code",
   "execution_count": 31,
   "metadata": {
    "scrolled": true
   },
   "outputs": [],
   "source": [
    "BAC = data.DataReader(\"BAC\", \"yahoo\", start, end)\n",
    "C = data.DataReader(\"C\",\"yahoo\", start, end)\n",
    "GS = data.DataReader(\"GS\",\"yahoo\", start, end)\n",
    "JPM = data.DataReader(\"JPM\",\"yahoo\", start, end)\n",
    "MS = data.DataReader(\"MS\",\"yahoo\", start, end)\n",
    "WFC = data.DataReader(\"WFC\",\"yahoo\", start, end)"
   ]
  },
  {
   "cell_type": "code",
   "execution_count": 39,
   "metadata": {},
   "outputs": [
    {
     "data": {
      "text/plain": [
       "<matplotlib.axes._subplots.AxesSubplot at 0xd6de296b38>"
      ]
     },
     "execution_count": 39,
     "metadata": {},
     "output_type": "execute_result"
    },
    {
     "data": {
      "image/png": "[encoded data removed]",
      "text/plain": [
       "<Figure size 432x288 with 1 Axes>"
      ]
     },
     "metadata": {},
     "output_type": "display_data"
    }
   ],
   "source": [
    "WFC['Close'].plot()"
   ]
  },
  {
   "cell_type": "markdown",
   "metadata": {},
   "source": [
    "** Crie uma lista dos símbolos dos tickers (como strings) em ordem alfabética. Chame esta lista: tickers **"
   ]
  },
  {
   "cell_type": "code",
   "execution_count": 22,
   "metadata": {},
   "outputs": [],
   "source": [
    "tickers = ['BAC','C','GS','JPM','MS','WFC']"
   ]
  },
  {
   "cell_type": "markdown",
   "metadata": {},
   "source": [
    "** Use pd.concat para concatenar os DataFrames do banco juntos em um único chamado bank_stocks. Defina o argumento das chaves igual à lista de tickers. Também preste atenção em que eixo você concatena. **"
   ]
  },
  {
   "cell_type": "code",
   "execution_count": 40,
   "metadata": {},
   "outputs": [],
   "source": [
    "bank_stocks = pd.concat([BAC,C,GS,JPM,MS,WFC],axis=1,keys=tickers)"
   ]
  },
  {
   "cell_type": "markdown",
   "metadata": {},
   "source": [
    "** Defina os níveis dos nomes das colunas (este é preenchido para você): **"
   ]
  },
  {
   "cell_type": "code",
   "execution_count": 41,
   "metadata": {},
   "outputs": [],
   "source": [
    "bank_stocks.columns.names = ['Bank Ticker','Stock Info']"
   ]
  },
  {
   "cell_type": "markdown",
   "metadata": {},
   "source": [
    "** Verifique o cabeçalho do DataFrame bank_stocks. **"
   ]
  },
  {
   "cell_type": "code",
   "execution_count": 42,
   "metadata": {},
   "outputs": [
    {
     "data": {
      "text/html": [
       "<div>\n",
       "<style scoped>\n",
       "    .dataframe tbody tr th:only-of-type {\n",
       "        vertical-align: middle;\n",
       "    }\n",
       "\n",
       "    .dataframe tbody tr th {\n",
       "        vertical-align: top;\n",
       "    }\n",
       "\n",
       "    .dataframe thead tr th {\n",
       "        text-align: left;\n",
       "    }\n",
       "\n",
       "    .dataframe thead tr:last-of-type th {\n",
       "        text-align: right;\n",
       "    }\n",
       "</style>\n",
       "<table border=\"1\" class=\"dataframe\">\n",
       "  <thead>\n",
       "    <tr>\n",
       "      <th>Bank Ticker</th>\n",
       "      <th colspan=\"6\" halign=\"left\">BAC</th>\n",
       "      <th colspan=\"4\" halign=\"left\">C</th>\n",
       "      <th>...</th>\n",
       "      <th colspan=\"4\" halign=\"left\">MS</th>\n",
       "      <th colspan=\"6\" halign=\"left\">WFC</th>\n",
       "    </tr>\n",
       "    <tr>\n",
       "      <th>Stock Info</th>\n",
       "      <th>High</th>\n",
       "      <th>Low</th>\n",
       "      <th>Open</th>\n",
       "      <th>Close</th>\n",
       "      <th>Volume</th>\n",
       "      <th>Adj Close</th>\n",
       "      <th>High</th>\n",
       "      <th>Low</th>\n",
       "      <th>Open</th>\n",
       "      <th>Close</th>\n",
       "      <th>...</th>\n",
       "      <th>Open</th>\n",
       "      <th>Close</th>\n",
       "      <th>Volume</th>\n",
       "      <th>Adj Close</th>\n",
       "      <th>High</th>\n",
       "      <th>Low</th>\n",
       "      <th>Open</th>\n",
       "      <th>Close</th>\n",
       "      <th>Volume</th>\n",
       "      <th>Adj Close</th>\n",
       "    </tr>\n",
       "    <tr>\n",
       "      <th>Date</th>\n",
       "      <th></th>\n",
       "      <th></th>\n",
       "      <th></th>\n",
       "      <th></th>\n",
       "      <th></th>\n",
       "      <th></th>\n",
       "      <th></th>\n",
       "      <th></th>\n",
       "      <th></th>\n",
       "      <th></th>\n",
       "      <th></th>\n",
       "      <th></th>\n",
       "      <th></th>\n",
       "      <th></th>\n",
       "      <th></th>\n",
       "      <th></th>\n",
       "      <th></th>\n",
       "      <th></th>\n",
       "      <th></th>\n",
       "      <th></th>\n",
       "      <th></th>\n",
       "    </tr>\n",
       "  </thead>\n",
       "  <tbody>\n",
       "    <tr>\n",
       "      <th>2006-01-03</th>\n",
       "      <td>47.180000</td>\n",
       "      <td>46.150002</td>\n",
       "      <td>46.919998</td>\n",
       "      <td>47.080002</td>\n",
       "      <td>16296700.0</td>\n",
       "      <td>35.298687</td>\n",
       "      <td>493.799988</td>\n",
       "      <td>481.100006</td>\n",
       "      <td>490.000000</td>\n",
       "      <td>492.899994</td>\n",
       "      <td>...</td>\n",
       "      <td>57.169998</td>\n",
       "      <td>58.310001</td>\n",
       "      <td>5377000.0</td>\n",
       "      <td>37.758644</td>\n",
       "      <td>31.975000</td>\n",
       "      <td>31.195000</td>\n",
       "      <td>31.600000</td>\n",
       "      <td>31.900000</td>\n",
       "      <td>11016400.0</td>\n",
       "      <td>20.823185</td>\n",
       "    </tr>\n",
       "    <tr>\n",
       "      <th>2006-01-04</th>\n",
       "      <td>47.240002</td>\n",
       "      <td>46.450001</td>\n",
       "      <td>47.000000</td>\n",
       "      <td>46.580002</td>\n",
       "      <td>17757900.0</td>\n",
       "      <td>34.923801</td>\n",
       "      <td>491.000000</td>\n",
       "      <td>483.500000</td>\n",
       "      <td>488.600006</td>\n",
       "      <td>483.799988</td>\n",
       "      <td>...</td>\n",
       "      <td>58.700001</td>\n",
       "      <td>58.349998</td>\n",
       "      <td>7977800.0</td>\n",
       "      <td>37.784546</td>\n",
       "      <td>31.820000</td>\n",
       "      <td>31.365000</td>\n",
       "      <td>31.799999</td>\n",
       "      <td>31.530001</td>\n",
       "      <td>10870000.0</td>\n",
       "      <td>20.581659</td>\n",
       "    </tr>\n",
       "    <tr>\n",
       "      <th>2006-01-05</th>\n",
       "      <td>46.830002</td>\n",
       "      <td>46.320000</td>\n",
       "      <td>46.580002</td>\n",
       "      <td>46.639999</td>\n",
       "      <td>14970700.0</td>\n",
       "      <td>34.968796</td>\n",
       "      <td>487.799988</td>\n",
       "      <td>484.000000</td>\n",
       "      <td>484.399994</td>\n",
       "      <td>486.200012</td>\n",
       "      <td>...</td>\n",
       "      <td>58.549999</td>\n",
       "      <td>58.509998</td>\n",
       "      <td>5778000.0</td>\n",
       "      <td>37.888165</td>\n",
       "      <td>31.555000</td>\n",
       "      <td>31.309999</td>\n",
       "      <td>31.500000</td>\n",
       "      <td>31.495001</td>\n",
       "      <td>10158000.0</td>\n",
       "      <td>20.558811</td>\n",
       "    </tr>\n",
       "    <tr>\n",
       "      <th>2006-01-06</th>\n",
       "      <td>46.910000</td>\n",
       "      <td>46.349998</td>\n",
       "      <td>46.799999</td>\n",
       "      <td>46.570000</td>\n",
       "      <td>12599800.0</td>\n",
       "      <td>34.916302</td>\n",
       "      <td>489.000000</td>\n",
       "      <td>482.000000</td>\n",
       "      <td>488.799988</td>\n",
       "      <td>486.200012</td>\n",
       "      <td>...</td>\n",
       "      <td>58.770000</td>\n",
       "      <td>58.570000</td>\n",
       "      <td>6889800.0</td>\n",
       "      <td>37.927017</td>\n",
       "      <td>31.775000</td>\n",
       "      <td>31.385000</td>\n",
       "      <td>31.580000</td>\n",
       "      <td>31.680000</td>\n",
       "      <td>8403800.0</td>\n",
       "      <td>20.679575</td>\n",
       "    </tr>\n",
       "    <tr>\n",
       "      <th>2006-01-09</th>\n",
       "      <td>46.970001</td>\n",
       "      <td>46.360001</td>\n",
       "      <td>46.720001</td>\n",
       "      <td>46.599998</td>\n",
       "      <td>15619400.0</td>\n",
       "      <td>34.938789</td>\n",
       "      <td>487.399994</td>\n",
       "      <td>483.000000</td>\n",
       "      <td>486.000000</td>\n",
       "      <td>483.899994</td>\n",
       "      <td>...</td>\n",
       "      <td>58.630001</td>\n",
       "      <td>59.189999</td>\n",
       "      <td>4144500.0</td>\n",
       "      <td>38.328484</td>\n",
       "      <td>31.825001</td>\n",
       "      <td>31.555000</td>\n",
       "      <td>31.674999</td>\n",
       "      <td>31.674999</td>\n",
       "      <td>5619600.0</td>\n",
       "      <td>20.676311</td>\n",
       "    </tr>\n",
       "  </tbody>\n",
       "</table>\n",
       "<p>5 rows × 36 columns</p>\n",
       "</div>"
      ],
      "text/plain": [
       "Bank Ticker        BAC                                               \\\n",
       "Stock Info        High        Low       Open      Close      Volume   \n",
       "Date                                                                  \n",
       "2006-01-03   47.180000  46.150002  46.919998  47.080002  16296700.0   \n",
       "2006-01-04   47.240002  46.450001  47.000000  46.580002  17757900.0   \n",
       "2006-01-05   46.830002  46.320000  46.580002  46.639999  14970700.0   \n",
       "2006-01-06   46.910000  46.349998  46.799999  46.570000  12599800.0   \n",
       "2006-01-09   46.970001  46.360001  46.720001  46.599998  15619400.0   \n",
       "\n",
       "Bank Ticker                      C                                      \\\n",
       "Stock Info   Adj Close        High         Low        Open       Close   \n",
       "Date                                                                     \n",
       "2006-01-03   35.298687  493.799988  481.100006  490.000000  492.899994   \n",
       "2006-01-04   34.923801  491.000000  483.500000  488.600006  483.799988   \n",
       "2006-01-05   34.968796  487.799988  484.000000  484.399994  486.200012   \n",
       "2006-01-06   34.916302  489.000000  482.000000  488.799988  486.200012   \n",
       "2006-01-09   34.938789  487.399994  483.000000  486.000000  483.899994   \n",
       "\n",
       "Bank Ticker    ...             MS                                         WFC  \\\n",
       "Stock Info     ...           Open      Close     Volume  Adj Close       High   \n",
       "Date           ...                                                              \n",
       "2006-01-03     ...      57.169998  58.310001  5377000.0  37.758644  31.975000   \n",
       "2006-01-04     ...      58.700001  58.349998  7977800.0  37.784546  31.820000   \n",
       "2006-01-05     ...      58.549999  58.509998  5778000.0  37.888165  31.555000   \n",
       "2006-01-06     ...      58.770000  58.570000  6889800.0  37.927017  31.775000   \n",
       "2006-01-09     ...      58.630001  59.189999  4144500.0  38.328484  31.825001   \n",
       "\n",
       "Bank Ticker                                                          \n",
       "Stock Info         Low       Open      Close      Volume  Adj Close  \n",
       "Date                                                                 \n",
       "2006-01-03   31.195000  31.600000  31.900000  11016400.0  20.823185  \n",
       "2006-01-04   31.365000  31.799999  31.530001  10870000.0  20.581659  \n",
       "2006-01-05   31.309999  31.500000  31.495001  10158000.0  20.558811  \n",
       "2006-01-06   31.385000  31.580000  31.680000   8403800.0  20.679575  \n",
       "2006-01-09   31.555000  31.674999  31.674999   5619600.0  20.676311  \n",
       "\n",
       "[5 rows x 36 columns]"
      ]
     },
     "execution_count": 42,
     "metadata": {},
     "output_type": "execute_result"
    }
   ],
   "source": [
    "bank_stocks.head()"
   ]
  },
  {
   "cell_type": "markdown",
   "metadata": {},
   "source": [
    "# Análise de dados exploratória\n",
    "\n",
    "Vamos explorar os dados um pouco! Antes de prosseguir, sugiro que você verifique a documentação no [Multi-Level Indexing](http://pandas.pydata.org/pandas-docs/stable/advanced.html) e [como usar .xs](http: // pandas.pydata.org/pandas-docs/stable/generated/pandas.DataFrame.xs.html).\n",
    "Consulte as soluções se você não consiga descobrir como usar .xs (), uma vez que isso será uma parte importante desse projeto.\n",
    "\n",
    "** Qual é o preço máximo de fechamento para cada banco durante todo o período? **"
   ]
  },
  {
   "cell_type": "code",
   "execution_count": null,
   "metadata": {},
   "outputs": [],
   "source": []
  },
  {
   "cell_type": "markdown",
   "metadata": {},
   "source": [
    "** Crie um novo DataFrame vazio chamado returns. Este dataframe conterá os retornos para o ação de cada banco. Os retornos geralmente são definidos por: **\n",
    "\n",
    "$$r_t = \\frac{p_t - p_{t-1}}{p_{t-1}} = \\frac{p_t}{p_{t-1}} - 1$$"
   ]
  },
  {
   "cell_type": "code",
   "execution_count": null,
   "metadata": {},
   "outputs": [],
   "source": []
  },
  {
   "cell_type": "markdown",
   "metadata": {},
   "source": [
    "** Podemos usar o método pct_change () pandas na coluna close para criar uma coluna que represente esse valor de retorno. Crie um loop for que vá e para cada Bank Stock Ticker cria essa coluna de retorno e configura-a como uma coluna nos dados DataFrame. **"
   ]
  },
  {
   "cell_type": "code",
   "execution_count": null,
   "metadata": {},
   "outputs": [],
   "source": []
  },
  {
   "cell_type": "markdown",
   "metadata": {},
   "source": [
    "** Crie um parplot utilizando seaborn no dataframe de retorno. **"
   ]
  },
  {
   "cell_type": "code",
   "execution_count": null,
   "metadata": {},
   "outputs": [],
   "source": []
  },
  {
   "cell_type": "markdown",
   "metadata": {},
   "source": [
    "** Usando o seu DataFrame returns, descubra quais datas cada ação dos bancos teve o melhor e o pior dia de retorno. Você deve notar que 4 dos bancos compartilham o mesmo dia para a pior queda. Alguma coisa significante aconteceu naquele dia? **"
   ]
  },
  {
   "cell_type": "code",
   "execution_count": null,
   "metadata": {},
   "outputs": [],
   "source": []
  },
  {
   "cell_type": "code",
   "execution_count": null,
   "metadata": {
    "scrolled": true
   },
   "outputs": [],
   "source": []
  },
  {
   "cell_type": "markdown",
   "metadata": {},
   "source": [
    "** Dê uma olhada no desvio padrão dos retornos. Qual ação você classificaria como a mais arriscada durante todo o período de tempo? Qual você classificaria como a mais arriscado para o ano 2015? **"
   ]
  },
  {
   "cell_type": "code",
   "execution_count": null,
   "metadata": {},
   "outputs": [],
   "source": []
  },
  {
   "cell_type": "code",
   "execution_count": null,
   "metadata": {},
   "outputs": [],
   "source": []
  },
  {
   "cell_type": "markdown",
   "metadata": {},
   "source": [
    "** Crie um distplot usando seaborn dos retornos de 2015 para Morgan Stanley **"
   ]
  },
  {
   "cell_type": "code",
   "execution_count": null,
   "metadata": {},
   "outputs": [],
   "source": []
  },
  {
   "cell_type": "markdown",
   "metadata": {},
   "source": [
    "** Crie um distplot usando seaborn dos retornos de 2008 para CitiGroup **"
   ]
  },
  {
   "cell_type": "code",
   "execution_count": null,
   "metadata": {},
   "outputs": [],
   "source": []
  },
  {
   "cell_type": "markdown",
   "metadata": {},
   "source": [
    "# Mais visualização\n",
    "\n",
    "Muito desse projeto se concentrará em visualizações. Sinta-se livre para usar qualquer uma das suas bibliotecas de visualização preferidas para tentar recriar os plots descritos abaixo, seaborn, matplotlib, plotly e cufflinks, ou apenas pandas.\n",
    "\n",
    "### Importações"
   ]
  },
  {
   "cell_type": "code",
   "execution_count": null,
   "metadata": {},
   "outputs": [],
   "source": [
    "import matplotlib.pyplot as plt\n",
    "import seaborn as sns\n",
    "sns.set_style('whitegrid')\n",
    "%matplotlib inline"
   ]
  },
  {
   "cell_type": "markdown",
   "metadata": {},
   "source": [
    "** Crie um gráfico de linha mostrando o preço de fechamento para cada banco para todo o índice de tempo. (Sugestão: tente usar um loop for ou use [.xs](http://pandas.pydata.org/pandas-docs/stable/generated/pandas.DataFrame.xs.html) para obter uma seção transversal dos dados .) **"
   ]
  },
  {
   "cell_type": "code",
   "execution_count": null,
   "metadata": {},
   "outputs": [],
   "source": []
  },
  {
   "cell_type": "code",
   "execution_count": null,
   "metadata": {},
   "outputs": [],
   "source": []
  },
  {
   "cell_type": "markdown",
   "metadata": {},
   "source": [
    "## Médias móveis\n",
    "\n",
    "Vamos analisar as médias móveis para essas ações no ano de 2008.\n",
    "\n",
    "** Trace a média de 30 dias para o preço do Bank Of America para o ano de 2008 **"
   ]
  },
  {
   "cell_type": "code",
   "execution_count": null,
   "metadata": {},
   "outputs": [],
   "source": []
  },
  {
   "cell_type": "markdown",
   "metadata": {},
   "source": [
    "** Crie um mapa de calor da correlação entre os preços de fechamento das ações. **"
   ]
  },
  {
   "cell_type": "code",
   "execution_count": null,
   "metadata": {},
   "outputs": [],
   "source": []
  },
  {
   "cell_type": "markdown",
   "metadata": {},
   "source": [
    "** Opcional: use o clustermap do seaborn para agrupar as correlações: **"
   ]
  },
  {
   "cell_type": "code",
   "execution_count": null,
   "metadata": {},
   "outputs": [],
   "source": []
  },
  {
   "cell_type": "markdown",
   "metadata": {},
   "source": [
    "Definitivamente, muitos tópicos de finanças específicos aqui, então não se preocupe se você não os entendeu todos! A única coisa que você deve estar preocupado com a compreensão são os pandas básicos e operações de visualização."
   ]
  }
 ],
 "metadata": {
  "kernelspec": {
   "display_name": "Python 3",
   "language": "python",
   "name": "python3"
  },
  "language_info": {
   "codemirror_mode": {
    "name": "ipython",
    "version": 3
   },
   "file_extension": ".py",
   "mimetype": "text/x-python",
   "name": "python",
   "nbconvert_exporter": "python",
   "pygments_lexer": "ipython3",
   "version": "3.6.5"
  }
 },
 "nbformat": 4,
 "nbformat_minor": 1
}
